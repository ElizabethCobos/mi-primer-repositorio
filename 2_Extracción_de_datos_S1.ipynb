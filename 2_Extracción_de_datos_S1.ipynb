{
  "nbformat": 4,
  "nbformat_minor": 0,
  "metadata": {
    "colab": {
      "name": "2 | Extracción de datos | S1.ipynb",
      "provenance": [],
      "authorship_tag": "ABX9TyM/5BT+Ov7xJiM/qLtEf4Zu",
      "include_colab_link": true
    },
    "kernelspec": {
      "name": "python3",
      "display_name": "Python 3"
    },
    "language_info": {
      "name": "python"
    }
  },
  "cells": [
    {
      "cell_type": "markdown",
      "metadata": {
        "id": "view-in-github",
        "colab_type": "text"
      },
      "source": [
        "<a href=\"https://colab.research.google.com/github/ElizabethCobos/mi-primer-repositorio/blob/main/2_Extracci%C3%B3n_de_datos_S1.ipynb\" target=\"_parent\"><img src=\"https://colab.research.google.com/assets/colab-badge.svg\" alt=\"Open In Colab\"/></a>"
      ]
    },
    {
      "cell_type": "code",
      "source": [
        "#INSTALAR LIBRERIAS\n",
        "!pip install pandas\n",
        "!pip install numpy\n",
        "!pip install matplotlib"
      ],
      "metadata": {
        "id": "vEi4fPvktDjp"
      },
      "execution_count": null,
      "outputs": []
    },
    {
      "cell_type": "code",
      "source": [
        "#Importamos el archivo de datos\n",
        "from google.colab import files \n",
        "uploaded = files.upload()"
      ],
      "metadata": {
        "id": "VZo42fg2tEQh"
      },
      "execution_count": null,
      "outputs": []
    },
    {
      "cell_type": "code",
      "source": [
        "\t#Importamos la librería: pandas\n",
        "import pandas as pd \n",
        "import io \n",
        "\n",
        "#Leemos el contenido del archivo\n",
        "df = pd.read_csv(io.BytesIO(uploaded['file.csv']), index_col=2) \n",
        "#df = pd.read_csv('file.csv') \n",
        "df.info()\n",
        "df\n",
        "\n",
        "#Importar archivo desde Github\n",
        "#url = 'copied_raw_github_link'\n",
        "#df = pd.read_csv(url)"
      ],
      "metadata": {
        "id": "tbpKfoNAtF9V"
      },
      "execution_count": null,
      "outputs": []
    },
    {
      "cell_type": "code",
      "source": [
        "#FILTROS BASICOS PARA VARIABLES CUALITATIVAS\n",
        "#Filtro por objeto \n",
        "filtro1=df[df[\"Sexo\"] == \"Mujeres\"]\n",
        "filtro1"
      ],
      "metadata": {
        "id": "WYrdup4MtIyK"
      },
      "execution_count": null,
      "outputs": []
    },
    {
      "cell_type": "code",
      "source": [
        "#Filtro por filas\n",
        "#filtro2= df.iloc[300:302,: ]\n",
        "filtro2=df.iloc[ [1000, 2000, 3000] , : ]  #filas no consecutivas \n",
        "filtro2"
      ],
      "metadata": {
        "id": "7lgh0_eStLNA"
      },
      "execution_count": null,
      "outputs": []
    },
    {
      "cell_type": "code",
      "source": [
        "#Filtro por columnas\n",
        "filtro3=df.iloc[ : , 4:7]\n",
        "#filtro3=df.iloc[ : , [1,4,6]]  #columnas no consecutivas \n",
        "filtro3"
      ],
      "metadata": {
        "id": "TIclz5UVtNMx"
      },
      "execution_count": null,
      "outputs": []
    },
    {
      "cell_type": "code",
      "source": [
        "#Filtro de filas vs columnas \n",
        "filtro4=df.loc[[\"Puebla\",\"Durango\"], [\"Poblacion_ocupada_en_la_industria_manufacturera\"]]\n",
        "filtro4"
      ],
      "metadata": {
        "id": "HNocGLamtPS5"
      },
      "execution_count": null,
      "outputs": []
    },
    {
      "cell_type": "code",
      "source": [
        "#Filtro por cabecera\n",
        "filtro5=df.head()\n",
        "filtro5"
      ],
      "metadata": {
        "id": "KvFerGGitRo4"
      },
      "execution_count": null,
      "outputs": []
    },
    {
      "cell_type": "code",
      "source": [
        "#FILTROS BASICOS PARA VARIABLES CUANTITATIVAS\n",
        "#Filtro por comparacion\n",
        "filtro6=df[df[\"Periodo\"] > 2006]\n",
        "filtro6"
      ],
      "metadata": {
        "id": "c8DPNqyGtTgF"
      },
      "execution_count": null,
      "outputs": []
    },
    {
      "cell_type": "code",
      "source": [
        "#FILTROS BASICOS CON CONETORES LOGICOS\n",
        "#Filtro Y\n",
        "filtro7=df[(df[\"Periodo\"] > 2006) & (df[\"Sexo\"] == \"Mujeres\")]\n",
        "filtro7"
      ],
      "metadata": {
        "id": "N9XUAZEjtWJ9"
      },
      "execution_count": null,
      "outputs": []
    },
    {
      "cell_type": "code",
      "source": [
        "#Filtro o\n",
        "filtro8=df[(df[\"Periodo\"] > 2006) | (df[\"Sexo\"] == \"Mujeres\")]\n",
        "filtro8"
      ],
      "metadata": {
        "id": "CCwIIYB-tZ6D"
      },
      "execution_count": null,
      "outputs": []
    },
    {
      "cell_type": "code",
      "source": [
        "#Filtro not\n",
        "filtro9=df[~(df[\"Periodo\"] >= 2006) & (df[\"Sexo\"] == \"Mujeres\")]\n",
        "filtro9"
      ],
      "metadata": {
        "id": "2EGz0tmatapB"
      },
      "execution_count": null,
      "outputs": []
    },
    {
      "cell_type": "code",
      "source": [
        "#Convertir archivo filtrado a CSV\n",
        "filtro9.to_csv(\"Entregable1.csv\")"
      ],
      "metadata": {
        "id": "SvdWugu2teKV"
      },
      "execution_count": null,
      "outputs": []
    },
    {
      "cell_type": "code",
      "source": [
        "#descardar archivo filtrado en csv\n",
        "from google.colab import files \n",
        "  \n",
        "  \n",
        "files.download(\"Entregable1.csv\")"
      ],
      "metadata": {
        "id": "BIqHkVdJthmw"
      },
      "execution_count": null,
      "outputs": []
    },
    {
      "cell_type": "code",
      "source": [
        "#!pip install pyod  # instala la librería\n",
        "#from pyod.models.knn import KNN\n",
        "#import pandas as pd\n",
        " \n",
        "#X = pd.DataFrame(df={'Poblacion_ocupada_en_la_industria_manufacturera':Poblacion,'Poblaci n_ocupada,Tasa_de_ocupaci n_en_la_industria_manufacturera':Tasa})\n",
        " \n",
        "#clf = KNN(contamination=0.18)\n",
        "#clf.fit(X)\n",
        "#y_pred = clf.predict(X)\n",
        "#X[y_pred == 1]"
      ],
      "metadata": {
        "id": "SduEitRZtiKx"
      },
      "execution_count": null,
      "outputs": []
    }
  ]
}